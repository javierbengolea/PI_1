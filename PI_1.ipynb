{
 "cells": [
  {
   "cell_type": "code",
   "execution_count": null,
   "metadata": {},
   "outputs": [],
   "source": [
    "import pandas as pd\n",
    "\n",
    "url = 'datasets/australian_user_reviews.json'\n",
    "\n",
    "df = pd.read_json(url, lines=True, orient='records')"
   ]
  },
  {
   "cell_type": "code",
   "execution_count": null,
   "metadata": {},
   "outputs": [],
   "source": [
    "import json\n",
    "import ast\n",
    "\n",
    "# List to store valid JSON objects\n",
    "valid_json_objects = []\n",
    "\n",
    "with open(url, 'r', encoding='utf-8') as file:\n",
    "    for line in file:\n",
    "        try:\n",
    "            line = json.dumps(ast.literal_eval(line))\n",
    "            # print(line)\n",
    "            # # Attempt to load the JSON object\n",
    "            # json_object = json.loads(line)\n",
    "            # # If successful, append to the list of valid JSON objects\n",
    "            valid_json_objects.append(line)\n",
    "        except json.JSONDecodeError as e:\n",
    "            print(f\"Skipping row due to JSONDecodeError: {e}\")\n",
    "            pass\n",
    "            # print(line)\n",
    "            # If unable to decode the JSON object, skip the row and print an error message\n",
    "            print(f\"Skipping row due to JSONDecodeError: {e}\")\n",
    "\n",
    "# Now 'valid_json_objects' contains only the valid JSON objects\n",
    "print(valid_json_objects)\n",
    "\n",
    "\n",
    "\n",
    "# inpt = {'http://example.org/about': {'http://purl.org/dc/terms/title':\n",
    "#                                      [{'type': 'literal', 'value': \"Anna's Homepage\"}]}}\n",
    "\n",
    "# json_data = ast.literal_eval(json.dumps(inpt))\n",
    "\n",
    "# print(json_data)\n",
    "\n"
   ]
  },
  {
   "cell_type": "code",
   "execution_count": null,
   "metadata": {},
   "outputs": [],
   "source": [
    "len(valid_json_objects)"
   ]
  },
  {
   "cell_type": "code",
   "execution_count": null,
   "metadata": {},
   "outputs": [],
   "source": [
    "import ast\n",
    "\n",
    "inpt = {'http://example.org/about': {'http://purl.org/dc/terms/title':\n",
    "                                     [{'type': 'literal', 'value': \"Anna's Homepage\"}]}}\n",
    "\n",
    "json_data = ast.literal_eval(json.dumps(inpt))\n",
    "\n",
    "print(type(json_data))"
   ]
  },
  {
   "cell_type": "code",
   "execution_count": null,
   "metadata": {},
   "outputs": [],
   "source": [
    "import ast\n",
    "\n",
    "payload = \"{'hello': 'world'}\"\n",
    "ast.literal_eval(payload)\n",
    "json.dumps(ast.literal_eval(payload))"
   ]
  },
  {
   "cell_type": "code",
   "execution_count": null,
   "metadata": {},
   "outputs": [],
   "source": [
    "lista = list(df.reviews[0])\n",
    "\n",
    "json.dumps(lista[0])"
   ]
  },
  {
   "cell_type": "code",
   "execution_count": null,
   "metadata": {},
   "outputs": [],
   "source": [
    "# df = pd.read_json(valid_json_objects)\n",
    "\n",
    "# df\n",
    "df = pd.read_json('\\n'.join(valid_json_objects), lines=True)\n",
    "\n",
    "df.reviews.apply(lambda x: json.dumps(x))\n",
    "# ast.literal_eval(list(df.reviews[0])[0])"
   ]
  }
 ],
 "metadata": {
  "kernelspec": {
   "display_name": "Python 3",
   "language": "python",
   "name": "python3"
  },
  "language_info": {
   "codemirror_mode": {
    "name": "ipython",
    "version": 3
   },
   "file_extension": ".py",
   "mimetype": "text/x-python",
   "name": "python",
   "nbconvert_exporter": "python",
   "pygments_lexer": "ipython3",
   "version": "3.10.11"
  }
 },
 "nbformat": 4,
 "nbformat_minor": 2
}
